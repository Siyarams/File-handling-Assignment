{
  "nbformat": 4,
  "nbformat_minor": 0,
  "metadata": {
    "colab": {
      "provenance": []
    },
    "kernelspec": {
      "name": "python3",
      "display_name": "Python 3"
    },
    "language_info": {
      "name": "python"
    }
  },
  "cells": [
    {
      "cell_type": "markdown",
      "source": [
        "Questions"
      ],
      "metadata": {
        "id": "jsOTFxu5-uUv"
      }
    },
    {
      "cell_type": "code",
      "execution_count": null,
      "metadata": {
        "id": "e8qClczj-qHz"
      },
      "outputs": [],
      "source": [
        "1. What is the difference between interpreted and compiled languages?\n",
        "\n",
        "Ans:- Interpreted languages (like Python) execute code line-by-line, whereas compiled languages (like C++) compile code into machine code before execution.\n",
        "\n",
        "2. What is exception handling in Python?\n",
        "\n",
        "Ans:- Exception handling is a mechanism to handle runtime errors, allowing the program to continue execution or terminate gracefully.\n",
        "\n",
        "3. What is the purpose of the finally block in exception handling?\n",
        "\n",
        "Ans:- The finally block ensures that certain code (e.g., resource cleanup) is executed regardless of whether an exception occurred.\n",
        "\n",
        "4. What is logging in Python?\n",
        "\n",
        "Ans:- Logging is a mechanism to record events, errors, or messages during program execution, helping with debugging and monitoring.\n",
        "\n",
        "5. What is the significance of the del method in Python?\n",
        "\n",
        "Ans:- The del statement deletes objects, attributes, or items from collections, freeing up memory.\n",
        "\n",
        "6. What is the difference between import and from... import in Python?\n",
        "\n",
        "Ans:- import imports entire modules, while from... import imports specific functions or variables.\n",
        "\n",
        "7. How can you handle multiple exceptions in Python?\n",
        "\n",
        "Ans:- You can handle multiple exceptions using multiple except blocks or a single except block with multiple exception types.\n",
        "\n",
        "8. What is the purpose of the with statement when handling files in Python?\n",
        "\n",
        "Ans:- The with statement ensures that files are properly closed after use, regardless of exceptions.\n",
        "\n",
        "9. What is the difference between multithreading and multiprocessing?\n",
        "\n",
        "Ans:- Multithreading uses multiple threads within a single process, while multiprocessing uses multiple processes.\n",
        "\n",
        "10. What are the advantages of using logging in a program?\n",
        "\n",
        "Ans:- Logging provides benefits like debugging, error tracking, and monitoring program execution.\n",
        "\n",
        "11. What is memory management in Python?\n",
        "\n",
        "Ans:- Memory management refers to the process of allocating, deallocating, and managing memory for Python objects.\n",
        "\n",
        "12. What are the basic steps involved in exception handling in Python?\n",
        "\n",
        "Ans:- The basic steps are: try (code that might raise an exception), except (handle the exception), and optionally finally (cleanup code).\n",
        "\n",
        "13. Why is memory management important in Python?\n",
        "\n",
        "Ans:- Memory management is crucial to prevent memory leaks, optimize performance, and ensure efficient resource utilization.\n",
        "\n",
        "14. What is the role of try and except in exception handling?\n",
        "\n",
        "Ans:- try contains code that might raise an exception, while except handles the exception.\n",
        "\n",
        "15. How does Python's garbage collection system work?\n",
        "\n",
        "Ans:- Python's garbage collector automatically frees memory occupied by objects no longer referenced.\n",
        "\n",
        "16. What is the purpose of the else block in exception handling?\n",
        "\n",
        "Ans:- The else block executes code when no exceptions occur in the try block.\n",
        "\n",
        "17. What are the common logging levels in Python?\n",
        "\n",
        "Ans:- Common logging levels include DEBUG, INFO, WARNING, ERROR, and CRITICAL.\n",
        "\n",
        "18. What is the difference between os.fork() and multiprocessing in Python?\n",
        "\n",
        "Ans:- os.fork() creates a new process by duplicating the parent process, while multiprocessing provides a higher-level interface for parallelism.\n",
        "\n",
        "19. What is the importance of closing a file in Python?\n",
        "\n",
        "Ans:- Closing files releases system resources, ensures data integrity, and prevents file corruption.\n",
        "\n",
        "20. What is the difference between file.read() and file.readline() in Python?\n",
        "\n",
        "Ans:- file.read() reads the entire file, while file.readline() reads a single line.\n",
        "\n",
        "21. What is the logging module in Python used for?\n",
        "\n",
        "Ans:- The logging module provides a flexible logging system for recording events and errors.\n",
        "\n",
        "22. What is the os module in Python used for in file handling?\n",
        "\n",
        "Ans:- The os module provides functions for interacting with the operating system, including file handling.\n",
        "\n",
        "23. What are the challenges associated with memory management in Python?\n",
        "\n",
        "Challenges include memory leaks, fragmentation, and optimizing memory usage.\n",
        "\n",
        "24. How do you raise an exception manually in Python?\n",
        "\n",
        "Ans:- You can raise an exception using the raise statement.\n",
        "\n",
        "25. Why is it important to use multithreading in certain applications?\n",
        "\n",
        "Ans:- Multithreading improves responsiveness, increases throughput, and enhances system utilization in applications with concurrent tasks.\n",
        "\n"
      ]
    },
    {
      "cell_type": "markdown",
      "source": [
        "Pratical Questions"
      ],
      "metadata": {
        "id": "nQaDOs8J_g9i"
      }
    },
    {
      "cell_type": "code",
      "source": [
        "1. How can you open a file for writing in Python and write a string to it?\n"
      ],
      "metadata": {
        "id": "UeB2k7EI_kq1"
      },
      "execution_count": null,
      "outputs": []
    },
    {
      "cell_type": "code",
      "source": [
        "with open('file.txt', 'w') as f:\n",
        "    f.write('Hello, World!')\n"
      ],
      "metadata": {
        "id": "M1_7xsQw_9BM"
      },
      "execution_count": 3,
      "outputs": []
    },
    {
      "cell_type": "markdown",
      "source": [
        "2. Write a Python program to read the contents of a file and print each line."
      ],
      "metadata": {
        "id": "SUeXCuFEAmYx"
      }
    },
    {
      "cell_type": "code",
      "source": [
        "with open('file.txt', 'r') as f:\n",
        "    for line in f:\n",
        "        print(line.strip())\n"
      ],
      "metadata": {
        "colab": {
          "base_uri": "https://localhost:8080/"
        },
        "id": "O_Pia2N0An-K",
        "outputId": "92f26122-643a-4d5c-b850-b9d37af13d22"
      },
      "execution_count": 4,
      "outputs": [
        {
          "output_type": "stream",
          "name": "stdout",
          "text": [
            "Hello, World!\n"
          ]
        }
      ]
    },
    {
      "cell_type": "markdown",
      "source": [
        "3. How would you handle a case where the file doesn't exist while trying to open it for reading?\n"
      ],
      "metadata": {
        "id": "hMiKT3Q2AwiK"
      }
    },
    {
      "cell_type": "code",
      "source": [
        "try:\n",
        "    with open('nonexistent_file.txt', 'r') as f:\n",
        "        # read file content here\n",
        "        pass # Added a placeholder pass statement\n",
        "except FileNotFoundError:\n",
        "    print(\"File not found.\")"
      ],
      "metadata": {
        "colab": {
          "base_uri": "https://localhost:8080/"
        },
        "id": "LsgbRJnNA4bQ",
        "outputId": "6625c2b8-71f8-4aca-ce86-1cf343a26574"
      },
      "execution_count": 11,
      "outputs": [
        {
          "output_type": "stream",
          "name": "stdout",
          "text": [
            "File not found.\n"
          ]
        }
      ]
    },
    {
      "cell_type": "markdown",
      "source": [
        "4. Write a Python script that reads from one file and writes its content to another file.\n"
      ],
      "metadata": {
        "id": "w_oOckq_BT3g"
      }
    },
    {
      "cell_type": "code",
      "metadata": {
        "id": "b67ee4bf"
      },
      "source": [
        "# Create a dummy source file for the next step\n",
        "with open('source.txt', 'w') as f:\n",
        "    f.write('This is the content of the source file.')"
      ],
      "execution_count": 15,
      "outputs": []
    },
    {
      "cell_type": "markdown",
      "source": [
        "5. How would you catch and handle division by zero error in Python?"
      ],
      "metadata": {
        "id": "wVndknrjBvWU"
      }
    },
    {
      "cell_type": "code",
      "source": [
        "try:\n",
        "    x = 5 / 0\n",
        "except ZeroDivisionError:\n",
        "    print(\"Cannot divide by zero.\")\n"
      ],
      "metadata": {
        "colab": {
          "base_uri": "https://localhost:8080/"
        },
        "id": "F1Ijkm6pBkJL",
        "outputId": "8118419a-b2a4-4be5-e525-b1b0e103bdf4"
      },
      "execution_count": 16,
      "outputs": [
        {
          "output_type": "stream",
          "name": "stdout",
          "text": [
            "Cannot divide by zero.\n"
          ]
        }
      ]
    },
    {
      "cell_type": "markdown",
      "source": [
        "6. Write a Python program that logs an error message to a log file when a division by zero exception occurs."
      ],
      "metadata": {
        "id": "e1WF05oGB5fb"
      }
    },
    {
      "cell_type": "code",
      "source": [
        "import logging\n",
        "\n",
        "logging.basicConfig(filename='error.log', level=logging.ERROR)\n",
        "\n",
        "try:\n",
        "    x = 5 / 0\n",
        "except ZeroDivisionError:\n",
        "    logging.error(\"Division by zero error.\")\n"
      ],
      "metadata": {
        "colab": {
          "base_uri": "https://localhost:8080/"
        },
        "id": "Myr5Sj1CB9qX",
        "outputId": "36bc39ed-1e80-4584-b4bc-d54f1ad63ec1"
      },
      "execution_count": 17,
      "outputs": [
        {
          "output_type": "stream",
          "name": "stderr",
          "text": [
            "ERROR:root:Division by zero error.\n"
          ]
        }
      ]
    },
    {
      "cell_type": "markdown",
      "source": [
        "7. How do you log information at different levels (INFO, ERROR, WARNING) in Python using the logging module?"
      ],
      "metadata": {
        "id": "BzofURq9CG_E"
      }
    },
    {
      "cell_type": "code",
      "source": [
        "import logging\n",
        "\n",
        "logging.basicConfig(level=logging.INFO)\n",
        "\n",
        "logging.info(\"Informational message\")\n",
        "logging.warning(\"Warning message\")\n",
        "logging.error(\"Error message\")\n"
      ],
      "metadata": {
        "colab": {
          "base_uri": "https://localhost:8080/"
        },
        "id": "GgW_zrLQCK71",
        "outputId": "a39a1aaf-4835-45a6-a2f4-fec763e765e9"
      },
      "execution_count": 18,
      "outputs": [
        {
          "output_type": "stream",
          "name": "stderr",
          "text": [
            "WARNING:root:Warning message\n",
            "ERROR:root:Error message\n"
          ]
        }
      ]
    },
    {
      "cell_type": "markdown",
      "source": [
        "8. Write a program to handle a file opening error using exception handling.\n"
      ],
      "metadata": {
        "id": "HiChdycNCQsl"
      }
    },
    {
      "cell_type": "code",
      "source": [
        "try:\n",
        "    with open('file.txt', 'r') as f:\n",
        "        # read file\n",
        "        pass # Added a placeholder pass statement\n",
        "except (FileNotFoundError, PermissionError) as e:\n",
        "    print(f\"Error opening file: {e}\")"
      ],
      "metadata": {
        "id": "rOZjndstCOGl"
      },
      "execution_count": 22,
      "outputs": []
    },
    {
      "cell_type": "markdown",
      "source": [
        "9. How can you read a file line by line and store its content in a list in Python?"
      ],
      "metadata": {
        "id": "X_5vzWK8Ch7D"
      }
    },
    {
      "cell_type": "code",
      "source": [
        "with open('file.txt', 'r') as f:\n",
        "    lines = [line.strip() for line in f.readlines()]\n"
      ],
      "metadata": {
        "id": "pk9bJRynCWcn"
      },
      "execution_count": 23,
      "outputs": []
    },
    {
      "cell_type": "markdown",
      "source": [
        "10. How can you append data to an existing file in Python?"
      ],
      "metadata": {
        "id": "9rwqYmgaCpCR"
      }
    },
    {
      "cell_type": "code",
      "source": [
        "with open('file.txt', 'a') as f:\n",
        "    f.write('Appended text.')\n"
      ],
      "metadata": {
        "id": "sY0s359fCm1b"
      },
      "execution_count": 24,
      "outputs": []
    },
    {
      "cell_type": "markdown",
      "source": [
        "11. Write a Python program that uses a try-except block to handle an error when attempting to access a dictionary key that doesn't exist."
      ],
      "metadata": {
        "id": "AssrwYIaCww2"
      }
    },
    {
      "cell_type": "code",
      "source": [
        "d = {'key': 'value'}\n",
        "try:\n",
        "    print(d['nonexistent_key'])\n",
        "except KeyError:\n",
        "    print(\"Key not found.\")\n"
      ],
      "metadata": {
        "colab": {
          "base_uri": "https://localhost:8080/"
        },
        "id": "NojLaARsCs82",
        "outputId": "0ccf35aa-ab5e-49e1-c69f-765a58a62b4c"
      },
      "execution_count": 25,
      "outputs": [
        {
          "output_type": "stream",
          "name": "stdout",
          "text": [
            "Key not found.\n"
          ]
        }
      ]
    },
    {
      "cell_type": "markdown",
      "source": [
        "12. Write a program that demonstrates using multiple except blocks to handle different types of exceptions.\n",
        "\n"
      ],
      "metadata": {
        "id": "AkjFkrWUC6FV"
      }
    },
    {
      "cell_type": "code",
      "source": [
        "try:\n",
        "    # code that might raise exceptions\n",
        "    pass # Added a placeholder pass statement\n",
        "except ValueError:\n",
        "    print(\"ValueError occurred.\")\n",
        "except TypeError:\n",
        "    print(\"TypeError occurred.\")"
      ],
      "metadata": {
        "id": "V92uC107C8ZM"
      },
      "execution_count": 28,
      "outputs": []
    },
    {
      "cell_type": "markdown",
      "source": [
        "13. How would you check if a file exists before attempting to read it in Python?"
      ],
      "metadata": {
        "id": "Gsh-10qJDFM2"
      }
    },
    {
      "cell_type": "code",
      "source": [
        "import os\n",
        "\n",
        "if os.path.exists('file.txt'):\n",
        "    with open('file.txt', 'r') as f:\n",
        "        # read file\n",
        "        pass # Added a placeholder pass statement\n",
        "else:\n",
        "   print(\"File not found.\")"
      ],
      "metadata": {
        "id": "-UHKLRymDHXU"
      },
      "execution_count": 32,
      "outputs": []
    },
    {
      "cell_type": "markdown",
      "source": [
        "14. Write a program that uses the logging module to log both informational and error messages."
      ],
      "metadata": {
        "id": "fXg3MpJXDeQb"
      }
    },
    {
      "cell_type": "code",
      "source": [
        "import logging\n",
        "\n",
        "logging.basicConfig(level=logging.INFO)\n",
        "\n",
        "logging.info(\"Informational message\")\n",
        "try:\n",
        "    # code that might raise an exception\n",
        "    pass # Added a placeholder pass statement\n",
        "except Exception as e:\n",
        "    logging.error(f\"Error occurred: {e}\")"
      ],
      "metadata": {
        "id": "pF8XsRDvDgOK"
      },
      "execution_count": 34,
      "outputs": []
    },
    {
      "cell_type": "markdown",
      "source": [
        "15. Write a Python program that prints the content of a file and handles the case when the file is empty.\n"
      ],
      "metadata": {
        "id": "6Xx1i6IDDozl"
      }
    },
    {
      "cell_type": "code",
      "source": [
        "with open('file.txt', 'r') as f:\n",
        "    content = f.read()\n",
        "    if content:\n",
        "        print(content)\n",
        "    else:\n",
        "        print(\"File is empty.\")\n",
        "\n"
      ],
      "metadata": {
        "colab": {
          "base_uri": "https://localhost:8080/"
        },
        "id": "KagSK1YBDqlG",
        "outputId": "c484816c-2888-4890-de4c-d2702f40d84a"
      },
      "execution_count": 35,
      "outputs": [
        {
          "output_type": "stream",
          "name": "stdout",
          "text": [
            "Hello, World!Appended text.\n"
          ]
        }
      ]
    },
    {
      "cell_type": "markdown",
      "source": [
        "16. Demonstrate how to use memory profiling to check the memory usage of a small program.\n"
      ],
      "metadata": {
        "id": "sg4y_mmoDwB7"
      }
    },
    {
      "cell_type": "code",
      "source": [
        "import tracemalloc\n",
        "\n",
        "tracemalloc.start()\n",
        "# code to profile\n",
        "snapshot = tracemalloc.take_snapshot()\n",
        "top_stats = snapshot.statistics('lineno')\n",
        "for stat in top_stats[:10]:\n",
        "    print(stat)"
      ],
      "metadata": {
        "colab": {
          "base_uri": "https://localhost:8080/"
        },
        "id": "eY0ABw_1Dx2s",
        "outputId": "65970d0d-7648-42e7-a152-ec2ce8030c18"
      },
      "execution_count": 36,
      "outputs": [
        {
          "output_type": "stream",
          "name": "stdout",
          "text": [
            "/usr/local/lib/python3.11/dist-packages/IPython/core/interactiveshell.py:3473: size=320 B, count=1, average=320 B\n",
            "/usr/local/lib/python3.11/dist-packages/IPython/core/interactiveshell.py:3358: size=295 B, count=2, average=148 B\n",
            "/usr/local/lib/python3.11/dist-packages/IPython/core/interactiveshell.py:3553: size=152 B, count=1, average=152 B\n",
            "/usr/local/lib/python3.11/dist-packages/IPython/core/interactiveshell.py:3537: size=64 B, count=1, average=64 B\n",
            "/usr/lib/python3.11/codeop.py:125: size=61 B, count=1, average=61 B\n",
            "/usr/local/lib/python3.11/dist-packages/IPython/core/interactiveshell.py:3466: size=56 B, count=2, average=28 B\n",
            "/usr/local/lib/python3.11/dist-packages/IPython/core/compilerop.py:178: size=32 B, count=1, average=32 B\n"
          ]
        }
      ]
    },
    {
      "cell_type": "markdown",
      "source": [
        "17. Write a Python program to create and write a list of numbers to a file, one number per line.\n"
      ],
      "metadata": {
        "id": "VAzvpY1GD60v"
      }
    },
    {
      "cell_type": "code",
      "source": [
        "   numbers = [1, 2, 3, 4, 5]\n",
        "with open('numbers.txt', 'w') as f:\n",
        "    for num in numbers:\n",
        "        f.write(str(num) + '\\n')\n"
      ],
      "metadata": {
        "id": "jWLMPtbRC-ER"
      },
      "execution_count": 37,
      "outputs": []
    },
    {
      "cell_type": "markdown",
      "source": [
        "18. How would you implement a basic logging setup that logs to a file with rotation after 1MB?\n"
      ],
      "metadata": {
        "id": "iUOsU9OUEBwH"
      }
    },
    {
      "cell_type": "code",
      "source": [
        "import logging\n",
        "from logging.handlers import RotatingFileHandler\n",
        "\n",
        "# Create a rotating file handler\n",
        "handler = RotatingFileHandler('log.log', maxBytes=1024*1024, backupCount=1)\n",
        "handler.setLevel(logging.INFO)\n",
        "\n",
        "# Create a formatter and attach it to the handler\n",
        "formatter = logging.Formatter('%(asctime)s - %(name)s - %(levelname)s - %(message)s')\n",
        "handler.setFormatter(formatter)\n",
        "\n",
        "# Create a logger and attach the handler\n",
        "logger = logging.getLogger()\n",
        "logger.setLevel(logging.INFO)\n",
        "logger.addHandler(handler)\n",
        "\n",
        "# Log some messages\n",
        "logger.info('This is an info message')\n",
        "logger.error('This is an error message')\n"
      ],
      "metadata": {
        "colab": {
          "base_uri": "https://localhost:8080/"
        },
        "id": "ufRbA5JcEYmS",
        "outputId": "f282dabc-0098-4906-cf06-67cd8fcc4474"
      },
      "execution_count": 38,
      "outputs": [
        {
          "output_type": "stream",
          "name": "stderr",
          "text": [
            "INFO:root:This is an info message\n",
            "ERROR:root:This is an error message\n"
          ]
        }
      ]
    },
    {
      "cell_type": "markdown",
      "source": [
        "19. Write a program that handles both IndexError and KeyError using a try-except block.\n"
      ],
      "metadata": {
        "id": "R5q-C3REEeDX"
      }
    },
    {
      "cell_type": "code",
      "source": [
        "try:\n",
        "    my_list = [1, 2, 3]\n",
        "    print(my_list[5])  # This will raise an IndexError\n",
        "\n",
        "    my_dict = {'a': 1, 'b': 2}\n",
        "    print(my_dict['c'])  # This will raise a KeyError\n",
        "except (IndexError, KeyError) as e:\n",
        "    print(f\"An error occurred: {e}\")\n"
      ],
      "metadata": {
        "colab": {
          "base_uri": "https://localhost:8080/"
        },
        "id": "5dMVdXZTEiy0",
        "outputId": "0e8bc0b3-662d-4510-c29f-84bca3a0f35e"
      },
      "execution_count": 39,
      "outputs": [
        {
          "output_type": "stream",
          "name": "stdout",
          "text": [
            "An error occurred: list index out of range\n"
          ]
        }
      ]
    },
    {
      "cell_type": "markdown",
      "source": [
        "20. How would you open a file and read its contents using a context manager in Python?\n"
      ],
      "metadata": {
        "id": "r0JOcMZFEnL7"
      }
    },
    {
      "cell_type": "code",
      "source": [
        "with open('file.txt', 'r') as f:\n",
        "    contents = f.read()\n",
        "    print(contents)\n"
      ],
      "metadata": {
        "colab": {
          "base_uri": "https://localhost:8080/"
        },
        "id": "C90ZPWTOEo61",
        "outputId": "bb7b22a2-6a2a-45d2-d2fd-ec4f78fb020d"
      },
      "execution_count": 40,
      "outputs": [
        {
          "output_type": "stream",
          "name": "stdout",
          "text": [
            "Hello, World!Appended text.\n"
          ]
        }
      ]
    },
    {
      "cell_type": "markdown",
      "source": [
        "21. Write a Python program that reads a file and prints the number of occurrences of a specific word."
      ],
      "metadata": {
        "id": "HyW43MweEtCr"
      }
    },
    {
      "cell_type": "code",
      "source": [
        "def count_word_occurrences(file_name, word):\n",
        "    try:\n",
        "        with open(file_name, 'r') as f:\n",
        "            contents = f.read().lower()\n",
        "            occurrences = contents.count(word.lower())\n",
        "            print(f\"The word '{word}' occurs {occurrences} times.\")\n",
        "    except FileNotFoundError:\n",
        "        print(f\"The file '{file_name}' was not found.\")\n",
        "\n",
        "count_word_occurrences('file.txt', 'specific_word')\n",
        "\n",
        "\n"
      ],
      "metadata": {
        "colab": {
          "base_uri": "https://localhost:8080/"
        },
        "id": "c8cf10YxEwYG",
        "outputId": "1f0ba75f-7b7d-44fd-c097-ba2ed24bd49f"
      },
      "execution_count": 41,
      "outputs": [
        {
          "output_type": "stream",
          "name": "stdout",
          "text": [
            "The word 'specific_word' occurs 0 times.\n"
          ]
        }
      ]
    },
    {
      "cell_type": "code",
      "source": [
        "22. How can you check if a file is empty before attempting to read its contents?"
      ],
      "metadata": {
        "id": "e5ruYyGbD9It"
      },
      "execution_count": 37,
      "outputs": []
    },
    {
      "cell_type": "code",
      "source": [
        "import os\n",
        "\n",
        "def check_file_empty(file_name):\n",
        "    if os.path.getsize(file_name) == 0:\n",
        "        print(f\"The file '{file_name}' is empty.\")\n",
        "    else:\n",
        "        with open(file_name, 'r') as f:\n",
        "            contents = f.read()\n",
        "            print(contents)\n",
        "\n",
        "check_file_empty('file.txt')"
      ],
      "metadata": {
        "colab": {
          "base_uri": "https://localhost:8080/"
        },
        "id": "pM2HqwRME5HW",
        "outputId": "e64dc56f-2f5e-4b7e-a5a6-b35491eb9e79"
      },
      "execution_count": 42,
      "outputs": [
        {
          "output_type": "stream",
          "name": "stdout",
          "text": [
            "Hello, World!Appended text.\n"
          ]
        }
      ]
    },
    {
      "cell_type": "markdown",
      "source": [
        "\n",
        "23. Write a Python program that writes to a log file when an error occurs during file handling.\n",
        "\n"
      ],
      "metadata": {
        "id": "24kuVsF2E-ze"
      }
    },
    {
      "cell_type": "code",
      "source": [
        "import logging\n",
        "\n",
        "logging.basicConfig(filename='error.log', level=logging.ERROR)\n",
        "\n",
        "try:\n",
        "    with open('nonexistent_file.txt', 'r') as f:\n",
        "        contents = f.read()\n",
        "except Exception as e:\n",
        "    logging.error(f\"An error occurred: {e}\")\n",
        "\n"
      ],
      "metadata": {
        "colab": {
          "base_uri": "https://localhost:8080/"
        },
        "id": "84xHSFgwE8tW",
        "outputId": "d0471b7c-c1dd-41d6-f0b4-370ffba2c253"
      },
      "execution_count": 43,
      "outputs": [
        {
          "output_type": "stream",
          "name": "stderr",
          "text": [
            "ERROR:root:An error occurred: [Errno 2] No such file or directory: 'nonexistent_file.txt'\n"
          ]
        }
      ]
    },
    {
      "cell_type": "code",
      "source": [],
      "metadata": {
        "id": "8S3qEyOIFFsq"
      },
      "execution_count": null,
      "outputs": []
    }
  ]
}